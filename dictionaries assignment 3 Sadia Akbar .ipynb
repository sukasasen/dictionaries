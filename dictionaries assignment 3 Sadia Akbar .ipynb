{
 "cells": [
  {
   "cell_type": "code",
   "execution_count": 4,
   "id": "cf21ca35-58ce-4a13-b969-a209999e68f9",
   "metadata": {},
   "outputs": [
    {
     "name": "stdout",
     "output_type": "stream",
     "text": [
      "{'name': 'sadia', 'age': 19, 'city': 'lahore', 'hobbies': ['painting', 'sports']}\n"
     ]
    }
   ],
   "source": [
    "person = {\"name\": \"sadia\", \"age\": 19, \"city\": \"lahore\", \"hobbies\": [\"painting\", \"sports\"]}\n",
    "print(person)\n"
   ]
  },
  {
   "cell_type": "code",
   "execution_count": 5,
   "id": "c09334ee-a2e4-4a31-a270-920f931ab87f",
   "metadata": {},
   "outputs": [
    {
     "name": "stdout",
     "output_type": "stream",
     "text": [
      "{'hello': 1, 'my': 1, 'name': 1, 'is': 1, 'sadia': 1}\n"
     ]
    }
   ],
   "source": [
    "text = \"hello my name is sadia\"\n",
    "count = {}\n",
    "for word in text.split():\n",
    "    count[word] = count.get(word, 0) + 1\n",
    "print(count)\n"
   ]
  },
  {
   "cell_type": "code",
   "execution_count": 7,
   "id": "c57cf971-1142-4e40-93b9-5581a664c27f",
   "metadata": {},
   "outputs": [
    {
     "name": "stdout",
     "output_type": "stream",
     "text": [
      "{'apple': 7, 'banana': 3}\n"
     ]
    }
   ],
   "source": [
    "inventory = {\"apple\": 5, \"banana\": 3}\n",
    "inventory[\"apple\"] += 2\n",
    "print(inventory)\n"
   ]
  },
  {
   "cell_type": "code",
   "execution_count": 8,
   "id": "9fc445e5-1f78-4e48-969b-10a1ec2eaa58",
   "metadata": {},
   "outputs": [
    {
     "name": "stdout",
     "output_type": "stream",
     "text": [
      "Electronics\n"
     ]
    }
   ],
   "source": [
    "orders = [{\"cat\": \"Electronics\"}, {\"cat\": \"Clothing\"}, {\"cat\": \"Electronics\"}]\n",
    "count = {}\n",
    "for o in orders:\n",
    "    count[o[\"cat\"]] = count.get(o[\"cat\"], 0) + 1\n",
    "print(max(count, key=count.get))\n"
   ]
  },
  {
   "cell_type": "code",
   "execution_count": 9,
   "id": "2feab292-421d-4751-b064-1546336c71dd",
   "metadata": {},
   "outputs": [
    {
     "name": "stdout",
     "output_type": "stream",
     "text": [
      "85.0\n"
     ]
    }
   ],
   "source": [
    "grades = {\"Tom\": 90, \"Sue\": 80, \"Max\": 85}\n",
    "print(sum(grades.values()) / len(grades))\n"
   ]
  },
  {
   "cell_type": "code",
   "execution_count": 15,
   "id": "502c7f66-8a3d-4985-9aa8-488cf11708e0",
   "metadata": {},
   "outputs": [
    {
     "name": "stdout",
     "output_type": "stream",
     "text": [
      "Inventory: {'Pen': {'qty': 5, 'price': 10}, 'Book': {'qty': 10, 'price': 50}}\n",
      "Total value: 550\n"
     ]
    }
   ],
   "source": [
    "inventory = {}\n",
    "# Add product\n",
    "def add_product(name, qty, price):\n",
    "    inventory[name] = {\"qty\": qty, \"price\": price}\n",
    "# Update quantity\n",
    "def update_qty(name, qty):\n",
    "    if name in inventory:\n",
    "        inventory[name][\"qty\"] += qty\n",
    "# Total inventory value\n",
    "def total_value():\n",
    "    total = 0\n",
    "    for item in inventory.values():\n",
    "        total += item[\"qty\"] * item[\"price\"]\n",
    "    return total\n",
    "# Report low stock\n",
    "def low_stock():\n",
    "    for name, item in inventory.items():\n",
    "        if item[\"qty\"] < 5:\n",
    "            print(name, \"is low on stock\")\n",
    "# Example usage\n",
    "add_product(\"Pen\", 3, 10)\n",
    "add_product(\"Book\", 10, 50)\n",
    "update_qty(\"Pen\", 2)\n",
    "\n",
    "print(\"Inventory:\", inventory)\n",
    "print(\"Total value:\", total_value())\n",
    "low_stock()\n"
   ]
  },
  {
   "cell_type": "code",
   "execution_count": 14,
   "id": "1c26dd23-50f0-4cbe-809f-dc55672b315b",
   "metadata": {},
   "outputs": [
    {
     "name": "stdout",
     "output_type": "stream",
     "text": [
      "Alice Average: 87.5\n",
      "Bob Average: 83.0\n",
      "Carol Average: 86.0\n",
      "Highest in Math: Carol\n",
      "Lowest in Math: Bob\n",
      "Sorted by average:\n",
      "Alice\n",
      "Carol\n",
      "Bob\n"
     ]
    }
   ],
   "source": [
    "students = {\n",
    "    \"Alice\": {\"Math\": 90, \"English\": 85},\n",
    "    \"Bob\": {\"Math\": 78, \"English\": 88},\n",
    "    \"Carol\": {\"Math\": 92, \"English\": 80}\n",
    "}\n",
    "# Average grade for each student\n",
    "for name, grades in students.items():\n",
    "    avg = sum(grades.values()) / len(grades)\n",
    "    print(name, \"Average:\", avg)\n",
    "# Highest and lowest in Math\n",
    "math_grades = {name: info[\"Math\"] for name, info in students.items()}\n",
    "print(\"Highest in Math:\", max(math_grades, key=math_grades.get))\n",
    "print(\"Lowest in Math:\", min(math_grades, key=math_grades.get))\n",
    "# Sort by average\n",
    "sorted_students = sorted(students.items(), key=lambda x: sum(x[1].values()) / len(x[1]), reverse=True)\n",
    "print(\"Sorted by average:\")\n",
    "for name, _ in sorted_students:\n",
    "    print(name)\n"
   ]
  },
  {
   "cell_type": "code",
   "execution_count": 13,
   "id": "ad99cb97-c479-48f3-ad2c-1dd3809d82aa",
   "metadata": {},
   "outputs": [
    {
     "name": "stdout",
     "output_type": "stream",
     "text": [
      "Total: 40\n",
      "Discount: 4.0\n",
      "Tax: 1.8\n",
      "Final Amount: 37.8\n"
     ]
    }
   ],
   "source": [
    "store = {\n",
    "    \"Pen\": {\"price\": 10, \"qty\": 100},\n",
    "    \"Notebook\": {\"price\": 30, \"qty\": 50}\n",
    "}\n",
    "cart = {}\n",
    "def add_to_cart(product, qty):\n",
    "    if product in store and store[product][\"qty\"] >= qty:\n",
    "        cart[product] = cart.get(product, 0) + qty\n",
    "        store[product][\"qty\"] -= qty\n",
    "def remove_from_cart(product, qty):\n",
    "    if product in cart and cart[product] >= qty:\n",
    "        cart[product] -= qty\n",
    "        store[product][\"qty\"] += qty\n",
    "        if cart[product] == 0:\n",
    "            del cart[product]\n",
    "def checkout():\n",
    "    total = sum(store[item][\"price\"] * qty for item, qty in cart.items())\n",
    "    discount = 0.1 * total  # 10% discount\n",
    "    tax = 0.05 * (total - discount)  # 5% tax\n",
    "    final = total - discount + tax\n",
    "    print(\"Total:\", total)\n",
    "    print(\"Discount:\", discount)\n",
    "    print(\"Tax:\", tax)\n",
    "    print(\"Final Amount:\", final)\n",
    "# Example usage\n",
    "add_to_cart(\"Pen\", 2)\n",
    "add_to_cart(\"Notebook\", 1)\n",
    "remove_from_cart(\"Pen\", 1)\n",
    "checkout()\n"
   ]
  },
  {
   "cell_type": "code",
   "execution_count": null,
   "id": "53331b6d-a25e-4a3c-bbce-e1f4fadce803",
   "metadata": {},
   "outputs": [],
   "source": []
  }
 ],
 "metadata": {
  "kernelspec": {
   "display_name": "Python 3 (ipykernel)",
   "language": "python",
   "name": "python3"
  },
  "language_info": {
   "codemirror_mode": {
    "name": "ipython",
    "version": 3
   },
   "file_extension": ".py",
   "mimetype": "text/x-python",
   "name": "python",
   "nbconvert_exporter": "python",
   "pygments_lexer": "ipython3",
   "version": "3.12.7"
  }
 },
 "nbformat": 4,
 "nbformat_minor": 5
}
